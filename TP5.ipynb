{
 "cells": [
  {
   "cell_type": "code",
   "execution_count": null,
   "id": "7480c8b0-82a2-4ea3-ade3-cec9f2354c14",
   "metadata": {},
   "outputs": [],
   "source": [
    "e n d e r e c o = ’D:\\ pdi \\ images \\’ ;\n",
    "e x t = ’png ’ ; % m o d i f i c a r segundo a e x t e n s a o das imagens\n",
    "% p r o c u r a a s imagens com e x t e n s a o png d e n t r o do d i r e t o r i o images\n",
    "a r q u i v o s = d i r ( f u l l f i l e ( e n d e r e c o , [ ’*. ’ e x t ] ) ) ; %l e r a s imagens\n",
    "quant_img = l e n g t h ( a r q u i v o s ) ;\n",
    "f o r i = 1 : quant_img\n",
    "img = imread ( f u l l f i l e ( e n d e r e c o , a r q u i v o s ( i , 1 ) . name ) ) ;\n",
    "...\n",
    "end"
   ]
  }
 ],
 "metadata": {
  "kernelspec": {
   "display_name": "Octave",
   "language": "octave",
   "name": "octave"
  },
  "language_info": {
   "file_extension": ".m",
   "help_links": [
    {
     "text": "GNU Octave",
     "url": "https://www.gnu.org/software/octave/support.html"
    },
    {
     "text": "Octave Kernel",
     "url": "https://github.com/Calysto/octave_kernel"
    },
    {
     "text": "MetaKernel Magics",
     "url": "https://metakernel.readthedocs.io/en/latest/source/README.html"
    }
   ],
   "mimetype": "text/x-octave",
   "name": "octave",
   "version": "5.2.0"
  }
 },
 "nbformat": 4,
 "nbformat_minor": 5
}
