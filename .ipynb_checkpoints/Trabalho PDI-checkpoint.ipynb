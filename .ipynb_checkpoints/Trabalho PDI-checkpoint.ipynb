{
 "cells": [
  {
   "cell_type": "code",
   "execution_count": 1,
   "id": "5a840284",
   "metadata": {},
   "outputs": [
    {
     "name": "stdout",
     "output_type": "stream",
     "text": [
      "x =\r\n",
      "\r\n",
      "   1   2   3   4   5   6\r\n",
      "\r\n"
     ]
    }
   ],
   "source": [
    "x = [1 2 3 4 5 6]"
   ]
  },
  {
   "cell_type": "code",
   "execution_count": 2,
   "id": "4d4f52b8",
   "metadata": {},
   "outputs": [
    {
     "name": "stdout",
     "output_type": "stream",
     "text": [
      "ans =  5\r\n"
     ]
    }
   ],
   "source": [
    "x(5)"
   ]
  },
  {
   "cell_type": "code",
   "execution_count": 3,
   "id": "0e29c8c2",
   "metadata": {},
   "outputs": [
    {
     "name": "stdout",
     "output_type": "stream",
     "text": [
      "ans =\r\n",
      "\r\n",
      "   2   3   4   5\r\n",
      "\r\n"
     ]
    }
   ],
   "source": [
    "x(2 : 5)"
   ]
  },
  {
   "cell_type": "code",
   "execution_count": 4,
   "id": "99355325",
   "metadata": {},
   "outputs": [
    {
     "name": "stdout",
     "output_type": "stream",
     "text": [
      "ans =\r\n",
      "\r\n",
      "   1   2   3   4   5   6\r\n",
      "\r\n"
     ]
    }
   ],
   "source": [
    "x(1 : end)"
   ]
  },
  {
   "cell_type": "code",
   "execution_count": 5,
   "id": "626dc397",
   "metadata": {},
   "outputs": [
    {
     "name": "stdout",
     "output_type": "stream",
     "text": [
      "ans =\r\n",
      "\r\n",
      "   1   2   3   4   5\r\n",
      "\r\n"
     ]
    }
   ],
   "source": [
    "x(1 : end - 1)"
   ]
  },
  {
   "cell_type": "code",
   "execution_count": 6,
   "id": "b5439b41",
   "metadata": {},
   "outputs": [
    {
     "name": "stdout",
     "output_type": "stream",
     "text": [
      "ans =\r\n",
      "\r\n",
      "   6   4   2\r\n",
      "\r\n"
     ]
    }
   ],
   "source": [
    "x(6 : -2 : 1)"
   ]
  },
  {
   "cell_type": "code",
   "execution_count": 7,
   "id": "46ded575",
   "metadata": {},
   "outputs": [
    {
     "name": "stdout",
     "output_type": "stream",
     "text": [
      "ans =\r\n",
      "\r\n",
      "   1   5   2   1   1\r\n",
      "\r\n"
     ]
    }
   ],
   "source": [
    "x([1 5 2 1 1])"
   ]
  },
  {
   "cell_type": "markdown",
   "id": "1ce50cae",
   "metadata": {},
   "source": [
    "### Questão 2"
   ]
  },
  {
   "cell_type": "code",
   "execution_count": 11,
   "id": "94731733",
   "metadata": {},
   "outputs": [
    {
     "name": "stdout",
     "output_type": "stream",
     "text": [
      "M =\r\n",
      "\r\n",
      "    1    2   10    1\r\n",
      "    1    5    1    1\r\n",
      "    1    4    8    1\r\n",
      "    1   10    3    1\r\n",
      "\r\n"
     ]
    }
   ],
   "source": [
    "M = [1 2 10 1; 1 5 1 1; 1 4 8 1; 1 10 3 1]"
   ]
  },
  {
   "cell_type": "code",
   "execution_count": 12,
   "id": "1d82b753",
   "metadata": {
    "scrolled": true
   },
   "outputs": [
    {
     "name": "stdout",
     "output_type": "stream",
     "text": [
      "A =\n",
      "\n",
      "   1   2   3\n",
      "\n",
      "B =\n",
      "\n",
      "   3   2   1\n",
      "\n",
      "M =\n",
      "\n",
      "   4   5   6\n",
      "   6   5   3\n",
      "\n"
     ]
    }
   ],
   "source": [
    "A = [1 2 3]\n",
    "B = [3 2 1]\n",
    "M = [4 5 6 ; 6 5 3]"
   ]
  },
  {
   "cell_type": "code",
   "execution_count": 13,
   "id": "82ba601a",
   "metadata": {},
   "outputs": [
    {
     "name": "stdout",
     "output_type": "stream",
     "text": [
      "ans =\r\n",
      "\r\n",
      "   4   4   4\r\n",
      "\r\n"
     ]
    }
   ],
   "source": [
    "# a) soma vetores\n",
    "A + B"
   ]
  },
  {
   "cell_type": "code",
   "execution_count": 14,
   "id": "1746fdb4",
   "metadata": {},
   "outputs": [
    {
     "name": "stdout",
     "output_type": "stream",
     "text": [
      "ans =\r\n",
      "\r\n",
      "   5   7   9\r\n",
      "   7   7   6\r\n",
      "\r\n"
     ]
    }
   ],
   "source": [
    "# b) soma de vetor com matriz\n",
    "A + M"
   ]
  },
  {
   "cell_type": "code",
   "execution_count": 17,
   "id": "f26cdf8f",
   "metadata": {},
   "outputs": [
    {
     "name": "stdout",
     "output_type": "stream",
     "text": [
      "ans =\r\n",
      "\r\n",
      "   1\r\n",
      "   2\r\n",
      "   3\r\n",
      "\r\n"
     ]
    }
   ],
   "source": [
    "# c) Soma da transposta de a com B\n",
    "A'+ B"
   ]
  },
  {
   "cell_type": "code",
   "execution_count": 19,
   "id": "aba9c0a5",
   "metadata": {},
   "outputs": [
    {
     "name": "stdout",
     "output_type": "stream",
     "text": [
      "ans =\r\n",
      "\r\n",
      "   1   2   3\r\n",
      "   3   2   1\r\n",
      "\r\n"
     ]
    }
   ],
   "source": [
    "# d) Sutralçao da matriz M com a matriz gerada pelos vetores A e B\n",
    "M - [A; B]"
   ]
  },
  {
   "cell_type": "code",
   "execution_count": 20,
   "id": "6d34a2c4",
   "metadata": {},
   "outputs": [
    {
     "name": "stdout",
     "output_type": "stream",
     "text": [
      "error: vertical dimensions mismatch (1x3 vs 3x1)\r\n"
     ]
    }
   ],
   "source": [
    "# e) Tentativa falha de criar uma matriz com o vetor A e a transposta de B\n",
    "[A; B']"
   ]
  },
  {
   "cell_type": "code",
   "execution_count": null,
   "id": "cd10069f",
   "metadata": {},
   "outputs": [],
   "source": [
    "[A; B]"
   ]
  }
 ],
 "metadata": {
  "kernelspec": {
   "display_name": "Octave",
   "language": "octave",
   "name": "octave"
  },
  "language_info": {
   "file_extension": ".m",
   "help_links": [
    {
     "text": "GNU Octave",
     "url": "https://www.gnu.org/software/octave/support.html"
    },
    {
     "text": "Octave Kernel",
     "url": "https://github.com/Calysto/octave_kernel"
    },
    {
     "text": "MetaKernel Magics",
     "url": "https://metakernel.readthedocs.io/en/latest/source/README.html"
    }
   ],
   "mimetype": "text/x-octave",
   "name": "octave",
   "version": "5.2.0"
  }
 },
 "nbformat": 4,
 "nbformat_minor": 5
}
